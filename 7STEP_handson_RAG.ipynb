{
  "nbformat": 4,
  "nbformat_minor": 0,
  "metadata": {
    "colab": {
      "provenance": []
    },
    "kernelspec": {
      "name": "python3",
      "display_name": "Python 3"
    },
    "language_info": {
      "name": "python"
    }
  },
  "cells": [
    {
      "cell_type": "code",
      "source": [
        "pip install -U openai"
      ],
      "metadata": {
        "colab": {
          "base_uri": "https://localhost:8080/"
        },
        "id": "rAoxehSknN73",
        "outputId": "98eb4f70-a3fb-40cc-f61c-5a753a804390"
      },
      "execution_count": 1,
      "outputs": [
        {
          "output_type": "stream",
          "name": "stdout",
          "text": [
            "Collecting openai\n",
            "  Downloading openai-1.10.0-py3-none-any.whl (225 kB)\n",
            "\u001b[2K     \u001b[90m━━━━━━━━━━━━━━━━━━━━━━━━━━━━━━━━━━━━━━━━\u001b[0m \u001b[32m225.1/225.1 kB\u001b[0m \u001b[31m2.8 MB/s\u001b[0m eta \u001b[36m0:00:00\u001b[0m\n",
            "\u001b[?25hRequirement already satisfied: anyio<5,>=3.5.0 in /usr/local/lib/python3.10/dist-packages (from openai) (3.7.1)\n",
            "Requirement already satisfied: distro<2,>=1.7.0 in /usr/lib/python3/dist-packages (from openai) (1.7.0)\n",
            "Collecting httpx<1,>=0.23.0 (from openai)\n",
            "  Downloading httpx-0.26.0-py3-none-any.whl (75 kB)\n",
            "\u001b[2K     \u001b[90m━━━━━━━━━━━━━━━━━━━━━━━━━━━━━━━━━━━━━━━━\u001b[0m \u001b[32m75.9/75.9 kB\u001b[0m \u001b[31m5.5 MB/s\u001b[0m eta \u001b[36m0:00:00\u001b[0m\n",
            "\u001b[?25hRequirement already satisfied: pydantic<3,>=1.9.0 in /usr/local/lib/python3.10/dist-packages (from openai) (1.10.14)\n",
            "Requirement already satisfied: sniffio in /usr/local/lib/python3.10/dist-packages (from openai) (1.3.0)\n",
            "Requirement already satisfied: tqdm>4 in /usr/local/lib/python3.10/dist-packages (from openai) (4.66.1)\n",
            "Collecting typing-extensions<5,>=4.7 (from openai)\n",
            "  Downloading typing_extensions-4.9.0-py3-none-any.whl (32 kB)\n",
            "Requirement already satisfied: idna>=2.8 in /usr/local/lib/python3.10/dist-packages (from anyio<5,>=3.5.0->openai) (3.6)\n",
            "Requirement already satisfied: exceptiongroup in /usr/local/lib/python3.10/dist-packages (from anyio<5,>=3.5.0->openai) (1.2.0)\n",
            "Requirement already satisfied: certifi in /usr/local/lib/python3.10/dist-packages (from httpx<1,>=0.23.0->openai) (2023.11.17)\n",
            "Collecting httpcore==1.* (from httpx<1,>=0.23.0->openai)\n",
            "  Downloading httpcore-1.0.2-py3-none-any.whl (76 kB)\n",
            "\u001b[2K     \u001b[90m━━━━━━━━━━━━━━━━━━━━━━━━━━━━━━━━━━━━━━━━\u001b[0m \u001b[32m76.9/76.9 kB\u001b[0m \u001b[31m4.9 MB/s\u001b[0m eta \u001b[36m0:00:00\u001b[0m\n",
            "\u001b[?25hCollecting h11<0.15,>=0.13 (from httpcore==1.*->httpx<1,>=0.23.0->openai)\n",
            "  Downloading h11-0.14.0-py3-none-any.whl (58 kB)\n",
            "\u001b[2K     \u001b[90m━━━━━━━━━━━━━━━━━━━━━━━━━━━━━━━━━━━━━━━━\u001b[0m \u001b[32m58.3/58.3 kB\u001b[0m \u001b[31m3.4 MB/s\u001b[0m eta \u001b[36m0:00:00\u001b[0m\n",
            "\u001b[?25hInstalling collected packages: typing-extensions, h11, httpcore, httpx, openai\n",
            "  Attempting uninstall: typing-extensions\n",
            "    Found existing installation: typing_extensions 4.5.0\n",
            "    Uninstalling typing_extensions-4.5.0:\n",
            "      Successfully uninstalled typing_extensions-4.5.0\n",
            "\u001b[31mERROR: pip's dependency resolver does not currently take into account all the packages that are installed. This behaviour is the source of the following dependency conflicts.\n",
            "llmx 0.0.15a0 requires cohere, which is not installed.\n",
            "llmx 0.0.15a0 requires tiktoken, which is not installed.\n",
            "tensorflow-probability 0.22.0 requires typing-extensions<4.6.0, but you have typing-extensions 4.9.0 which is incompatible.\u001b[0m\u001b[31m\n",
            "\u001b[0mSuccessfully installed h11-0.14.0 httpcore-1.0.2 httpx-0.26.0 openai-1.10.0 typing-extensions-4.9.0\n"
          ]
        }
      ]
    },
    {
      "cell_type": "code",
      "execution_count": 6,
      "metadata": {
        "id": "dwL5FvLpl8eF"
      },
      "outputs": [],
      "source": [
        "from openai import OpenAI\n",
        "from google.colab import userdata\n",
        "\n",
        "client = OpenAI(api_key = userdata.get('OPENAI_API_KEY'))\n",
        "\n",
        "def get_embedding(text, model=\"text-embedding-3-small\"):\n",
        "   text = text.replace(\"\\n\", \" \")\n",
        "   return client.embeddings.create(input = [text], model=model).data[0].embedding"
      ]
    },
    {
      "cell_type": "code",
      "source": [
        "!wget https://www.nichibun-g.co.jp/textbooks/joho/2013_shidousho/download/text_25SJ_05.txt"
      ],
      "metadata": {
        "colab": {
          "base_uri": "https://localhost:8080/"
        },
        "id": "CotFVij7o_tR",
        "outputId": "230bd88e-f70d-4d74-ef02-da293de12b52"
      },
      "execution_count": 7,
      "outputs": [
        {
          "output_type": "stream",
          "name": "stdout",
          "text": [
            "--2024-01-26 11:59:56--  https://www.nichibun-g.co.jp/textbooks/joho/2013_shidousho/download/text_25SJ_05.txt\n",
            "Resolving www.nichibun-g.co.jp (www.nichibun-g.co.jp)... 153.127.63.216\n",
            "Connecting to www.nichibun-g.co.jp (www.nichibun-g.co.jp)|153.127.63.216|:443... connected.\n",
            "HTTP request sent, awaiting response... 200 OK\n",
            "Length: 5059 (4.9K) [text/plain]\n",
            "Saving to: ‘text_25SJ_05.txt’\n",
            "\n",
            "text_25SJ_05.txt    100%[===================>]   4.94K  --.-KB/s    in 0s      \n",
            "\n",
            "2024-01-26 11:59:57 (280 MB/s) - ‘text_25SJ_05.txt’ saved [5059/5059]\n",
            "\n"
          ]
        }
      ]
    },
    {
      "cell_type": "code",
      "source": [
        "import numpy as np\n",
        "\n",
        "texts = []\n",
        "with open('text_25SJ_05.txt', encoding='utf8') as f:\n",
        "  for r in f:\n",
        "    texts.append(r.replace(\"\\u3000\",\"\").replace(\"\\ufeff\", \"\"))\n"
      ],
      "metadata": {
        "id": "Bi3jsUwCoW5Z"
      },
      "execution_count": 51,
      "outputs": []
    },
    {
      "cell_type": "code",
      "source": [
        "texts"
      ],
      "metadata": {
        "id": "KqqS7YLPyZD9"
      },
      "execution_count": null,
      "outputs": []
    },
    {
      "cell_type": "code",
      "source": [
        "!pip install tiktoken"
      ],
      "metadata": {
        "colab": {
          "base_uri": "https://localhost:8080/"
        },
        "id": "VxU3Wmhdvxwk",
        "outputId": "fcc9befc-4265-492f-e477-1fd6e71fcf17"
      },
      "execution_count": 75,
      "outputs": [
        {
          "output_type": "stream",
          "name": "stdout",
          "text": [
            "Collecting tiktoken\n",
            "  Downloading tiktoken-0.5.2-cp310-cp310-manylinux_2_17_x86_64.manylinux2014_x86_64.whl (2.0 MB)\n",
            "\u001b[2K     \u001b[90m━━━━━━━━━━━━━━━━━━━━━━━━━━━━━━━━━━━━━━━━\u001b[0m \u001b[32m2.0/2.0 MB\u001b[0m \u001b[31m7.6 MB/s\u001b[0m eta \u001b[36m0:00:00\u001b[0m\n",
            "\u001b[?25hRequirement already satisfied: regex>=2022.1.18 in /usr/local/lib/python3.10/dist-packages (from tiktoken) (2023.6.3)\n",
            "Requirement already satisfied: requests>=2.26.0 in /usr/local/lib/python3.10/dist-packages (from tiktoken) (2.31.0)\n",
            "Requirement already satisfied: charset-normalizer<4,>=2 in /usr/local/lib/python3.10/dist-packages (from requests>=2.26.0->tiktoken) (3.3.2)\n",
            "Requirement already satisfied: idna<4,>=2.5 in /usr/local/lib/python3.10/dist-packages (from requests>=2.26.0->tiktoken) (3.6)\n",
            "Requirement already satisfied: urllib3<3,>=1.21.1 in /usr/local/lib/python3.10/dist-packages (from requests>=2.26.0->tiktoken) (2.0.7)\n",
            "Requirement already satisfied: certifi>=2017.4.17 in /usr/local/lib/python3.10/dist-packages (from requests>=2.26.0->tiktoken) (2023.11.17)\n",
            "Installing collected packages: tiktoken\n",
            "\u001b[31mERROR: pip's dependency resolver does not currently take into account all the packages that are installed. This behaviour is the source of the following dependency conflicts.\n",
            "llmx 0.0.15a0 requires cohere, which is not installed.\u001b[0m\u001b[31m\n",
            "\u001b[0mSuccessfully installed tiktoken-0.5.2\n"
          ]
        }
      ]
    },
    {
      "cell_type": "code",
      "source": [
        "import tiktoken\n",
        "\n",
        "def num_tokens_from_string(string: str, encoding_name: str) -> int:\n",
        "    \"\"\"Returns the number of tokens in a text string.\"\"\"\n",
        "    encoding = tiktoken.get_encoding(encoding_name)\n",
        "    num_tokens = len(encoding.encode(string))\n",
        "    return num_tokens\n",
        "\n",
        "num_tokens_from_string(''.join(texts), \"cl100k_base\")"
      ],
      "metadata": {
        "colab": {
          "base_uri": "https://localhost:8080/"
        },
        "id": "cHUfgaLuvsz7",
        "outputId": "25694297-6dbc-4377-800f-25e8cf817702"
      },
      "execution_count": 76,
      "outputs": [
        {
          "output_type": "execute_result",
          "data": {
            "text/plain": [
              "1770"
            ]
          },
          "metadata": {},
          "execution_count": 76
        }
      ]
    },
    {
      "cell_type": "code",
      "source": [
        "0.00002 * 148 * 1.77"
      ],
      "metadata": {
        "colab": {
          "base_uri": "https://localhost:8080/"
        },
        "id": "2g18xDLWpJHb",
        "outputId": "f270cc95-fe46-4761-dcd4-c00642ee7a55"
      },
      "execution_count": 77,
      "outputs": [
        {
          "output_type": "execute_result",
          "data": {
            "text/plain": [
              "0.005239200000000001"
            ]
          },
          "metadata": {},
          "execution_count": 77
        }
      ]
    },
    {
      "cell_type": "code",
      "source": [
        "len(texts)"
      ],
      "metadata": {
        "colab": {
          "base_uri": "https://localhost:8080/"
        },
        "id": "ul5srhygpb7L",
        "outputId": "8abf3724-5262-4e78-d32f-2e10260903e9"
      },
      "execution_count": 78,
      "outputs": [
        {
          "output_type": "execute_result",
          "data": {
            "text/plain": [
              "50"
            ]
          },
          "metadata": {},
          "execution_count": 78
        }
      ]
    },
    {
      "cell_type": "code",
      "source": [
        "# API利用してembedding取得\n",
        "embeddings = [get_embedding(t) for t in texts]"
      ],
      "metadata": {
        "id": "8k8Hj08vqnqj"
      },
      "execution_count": 79,
      "outputs": []
    },
    {
      "cell_type": "code",
      "source": [
        "import numpy as np\n",
        "\n",
        "embed_np = np.array(embeddings)"
      ],
      "metadata": {
        "id": "45U7nCRtquHb"
      },
      "execution_count": 80,
      "outputs": []
    },
    {
      "cell_type": "code",
      "source": [
        "ret_only = []\n",
        "for i, t in enumerate(texts):\n",
        "  if t == \"\\n\":\n",
        "    ret_only.append(i)\n",
        "    print(\"改行のみ\")"
      ],
      "metadata": {
        "colab": {
          "base_uri": "https://localhost:8080/"
        },
        "id": "KU1sJBr0sVOo",
        "outputId": "8116fde6-8190-4b63-de93-b7e2ab20b82b"
      },
      "execution_count": 86,
      "outputs": [
        {
          "output_type": "stream",
          "name": "stdout",
          "text": [
            "改行のみ\n",
            "改行のみ\n",
            "改行のみ\n",
            "改行のみ\n",
            "改行のみ\n",
            "改行のみ\n",
            "改行のみ\n",
            "改行のみ\n"
          ]
        }
      ]
    },
    {
      "cell_type": "code",
      "source": [
        "embed_np.shape"
      ],
      "metadata": {
        "colab": {
          "base_uri": "https://localhost:8080/"
        },
        "id": "C8FGVqmDrbQ5",
        "outputId": "bc8c341b-83b0-474d-cf44-d91743beb76a"
      },
      "execution_count": 82,
      "outputs": [
        {
          "output_type": "execute_result",
          "data": {
            "text/plain": [
              "(50, 1536)"
            ]
          },
          "metadata": {},
          "execution_count": 82
        }
      ]
    },
    {
      "cell_type": "code",
      "source": [
        "from openai import OpenAI\n",
        "client = OpenAI(api_key=userdata.get('OPENAI_API_KEY'))\n",
        "user_input = \"予約システムの故障で，多くの人は何ができなくなった？\""
      ],
      "metadata": {
        "id": "_cDkxpgQrlQh"
      },
      "execution_count": 61,
      "outputs": []
    },
    {
      "cell_type": "code",
      "source": [
        "# 入力の埋め込み取得、numpy配列へ変換\n",
        "input_vector = np.array(get_embedding(user_input))\n",
        "in_vec_np = np.array(input_vector)"
      ],
      "metadata": {
        "id": "2e-XBCHiuiUc"
      },
      "execution_count": 91,
      "outputs": []
    },
    {
      "cell_type": "code",
      "source": [
        "user_input"
      ],
      "metadata": {
        "colab": {
          "base_uri": "https://localhost:8080/",
          "height": 36
        },
        "id": "wRXNeOvazibL",
        "outputId": "ffcd105a-4dff-4ad2-9cfc-fb6e6c062789"
      },
      "execution_count": 92,
      "outputs": [
        {
          "output_type": "execute_result",
          "data": {
            "text/plain": [
              "'予約システムの故障で，多くの人は何ができなくなった？'"
            ],
            "application/vnd.google.colaboratory.intrinsic+json": {
              "type": "string"
            }
          },
          "metadata": {},
          "execution_count": 92
        }
      ]
    },
    {
      "cell_type": "code",
      "source": [
        "np.array(input_vector).shape"
      ],
      "metadata": {
        "colab": {
          "base_uri": "https://localhost:8080/"
        },
        "id": "DPAwC5XdzVF5",
        "outputId": "5b29f6e0-8fc2-4ffd-9acb-071c5f3fd4b1"
      },
      "execution_count": 90,
      "outputs": [
        {
          "output_type": "execute_result",
          "data": {
            "text/plain": [
              "(1536,)"
            ]
          },
          "metadata": {},
          "execution_count": 90
        }
      ]
    },
    {
      "cell_type": "code",
      "source": [
        "# 入力クエリと距離の近いトップ3レコードを取得してcontextへ格納\n",
        "dot_products = embed_np@in_vec_np\n",
        "topn = 3\n",
        "cnt = 0\n",
        "context = \"\"\n",
        "for i, idx in enumerate(np.argsort(embed_np@in_vec_np)[::-1]):\n",
        "  if idx in ret_only:\n",
        "    continue\n",
        "  if cnt == 3:\n",
        "    break\n",
        "  #print(i, dot_products[idx], texts[idx])\n",
        "  context+=texts[idx]\n",
        "  cnt += 1"
      ],
      "metadata": {
        "id": "zR5CqyhEuZuK"
      },
      "execution_count": 63,
      "outputs": []
    },
    {
      "cell_type": "code",
      "source": [
        "user_input"
      ],
      "metadata": {
        "colab": {
          "base_uri": "https://localhost:8080/",
          "height": 36
        },
        "id": "A0y4P32ivPKn",
        "outputId": "c02b8b8b-a135-429e-a807-2c5de22d72d6"
      },
      "execution_count": 69,
      "outputs": [
        {
          "output_type": "execute_result",
          "data": {
            "text/plain": [
              "'予約システムの故障で，多くの人は何ができなくなった？'"
            ],
            "application/vnd.google.colaboratory.intrinsic+json": {
              "type": "string"
            }
          },
          "metadata": {},
          "execution_count": 69
        }
      ]
    },
    {
      "cell_type": "code",
      "source": [
        "context"
      ],
      "metadata": {
        "colab": {
          "base_uri": "https://localhost:8080/",
          "height": 144
        },
        "id": "uuJ88dHBuay9",
        "outputId": "993eea4f-5bd8-478d-fddf-f5ca8524aca2"
      },
      "execution_count": 64,
      "outputs": [
        {
          "output_type": "execute_result",
          "data": {
            "text/plain": [
              "'予約システムの故障で，多くの人が鉄道や飛行機に乗れなくなった事例はいくつもある。銀行のオンラインシステムの障害で，入金・送金・支払いができなくなった事例も少なくない。\\n・通信システムのトラブル\\n道具が強力であればあるほど，故障したり悪用されたりしたときの問題は大きくなる。自然災害やプログラムのバグ，人間の操作ミスなどで情報システムが止まってしまうことがある。たとえば交通機関に関係する情報システムが停止すると，安全な運行ができなくなり，何万もの人々が影響を受ける。情報システムを破壊するような犯罪が起こるとその被害は甚大だ。\\n'"
            ],
            "application/vnd.google.colaboratory.intrinsic+json": {
              "type": "string"
            }
          },
          "metadata": {},
          "execution_count": 64
        }
      ]
    },
    {
      "cell_type": "code",
      "source": [
        "user_prompt = f\"\"\"(#ユーザからの問い)に次の(#コンテキスト)に従って回答せよ。\n",
        "# ユーザからの問い\n",
        "{user_input}\n",
        "# コンテキスト\n",
        "{context}\n",
        "\n",
        "\"\"\"\n",
        "print(user_prompt)"
      ],
      "metadata": {
        "colab": {
          "base_uri": "https://localhost:8080/"
        },
        "id": "r95nApWSu86_",
        "outputId": "c8d7d0a5-7730-4f04-8d5a-8d92d49fb2f0"
      },
      "execution_count": 95,
      "outputs": [
        {
          "output_type": "stream",
          "name": "stdout",
          "text": [
            "(#ユーザからの問い)に次の(#コンテキスト)に従って回答せよ。\n",
            "# ユーザからの問い\n",
            "予約システムの故障で，多くの人は何ができなくなった？\n",
            "# コンテキスト\n",
            "予約システムの故障で，多くの人が鉄道や飛行機に乗れなくなった事例はいくつもある。銀行のオンラインシステムの障害で，入金・送金・支払いができなくなった事例も少なくない。\n",
            "・通信システムのトラブル\n",
            "道具が強力であればあるほど，故障したり悪用されたりしたときの問題は大きくなる。自然災害やプログラムのバグ，人間の操作ミスなどで情報システムが止まってしまうことがある。たとえば交通機関に関係する情報システムが停止すると，安全な運行ができなくなり，何万もの人々が影響を受ける。情報システムを破壊するような犯罪が起こるとその被害は甚大だ。\n",
            "\n",
            "\n",
            "\n"
          ]
        }
      ]
    },
    {
      "cell_type": "code",
      "source": [
        "# RAGを使わない回答\n",
        "completion = client.chat.completions.create(\n",
        "  model=\"gpt-4-0125-preview\",\n",
        "  messages=[\n",
        "    {\"role\": \"system\", \"content\": \"あなたは役に立つアシスタントだ。\"},\n",
        "    {\"role\": \"user\", \"content\": user_input}\n",
        "  ]\n",
        ")"
      ],
      "metadata": {
        "id": "Eg4KkjU6wE8z"
      },
      "execution_count": 93,
      "outputs": []
    },
    {
      "cell_type": "code",
      "source": [
        "print(completion.choices[0].message.content)"
      ],
      "metadata": {
        "colab": {
          "base_uri": "https://localhost:8080/"
        },
        "id": "vkXSyO9VwNbt",
        "outputId": "a45861f5-2d59-4877-8ea6-d80696666fb8"
      },
      "execution_count": 94,
      "outputs": [
        {
          "output_type": "stream",
          "name": "stdout",
          "text": [
            "予約システムの故障によって多くの人ができなくなることは、以下のようなことが考えられます：\n",
            "\n",
            "1. ホテルや旅行の予約：予約システムが機能しないと、ホテルの部屋や旅行プランの予約が難しくなります。これにより旅行の計画が大きく影響を受ける可能性があります。\n",
            "\n",
            "2. レストランの予約：特に人気のレストランでは、予約無しでは入店が難しい場合があります。システムの故障により、希望する日時にレストランを予約することができなくなる可能性があります。\n",
            "\n",
            "3. 医療機関での診療予約：医療機関でも予約システムが広く使われており、システムのダウンは診療予約の取得を困難にします。これにより、患者は必要な診療を受けられないか、診療を受けるための待ち時間が長くなる可能性があります。\n",
            "\n",
            "4. イベントや公演のチケット予約：コンサート、映画、スポーツイベントなどの公演やイベントのチケット予約も、オンライン予約システムに依存しています。故障により、チケットの購入や予約ができなくなり、観客がイベントを楽しむ機会を逃すことになるかもしれません。\n",
            "\n",
            "5. 交通機関の予約：飛行機、列車、バスなどの交通機関の座席を予約する際にも、予約システムが使われます。システムの故障は、旅行者が移動手段を確保するのを難しくするだけでなく、既に予約した座席の管理や変更もできなくなる可能性があります。\n",
            "\n",
            "いずれの場合も、予約システムの故障は不便をもたらし、計画や日常生活に支障をきたす可能性があります。\n"
          ]
        }
      ]
    },
    {
      "cell_type": "code",
      "source": [
        "# RAGを使った回答\n",
        "completion = client.chat.completions.create(\n",
        "  model=\"gpt-3.5-turbo\",\n",
        "  messages=[\n",
        "    {\"role\": \"system\", \"content\": \"あなたは役に立つアシスタントだ。与えられた(#コンテキスト)に従って回答ができる\"},\n",
        "    {\"role\": \"user\", \"content\": user_prompt}\n",
        "  ]\n",
        ")"
      ],
      "metadata": {
        "colab": {
          "base_uri": "https://localhost:8080/"
        },
        "id": "I7Oj7NQut_3I",
        "outputId": "4a73ce07-4cd0-41a6-ba06-b94e36222d65"
      },
      "execution_count": 71,
      "outputs": [
        {
          "output_type": "stream",
          "name": "stdout",
          "text": [
            "ChatCompletionMessage(content='予約システムの故障により、多くの人は鉄道や飛行機に乗ることができなくなったり、銀行のオンラインシステムの障害で入金・送金・支払いができなくなったりしました。予約システムやオンラインシステムは、通信システムのトラブルや自然災害、プログラムのバグ、人間の操作ミスなどにより停止することがあります。その影響は大きく、多くの人々が困ることとなります。また、情報システムを悪用する犯罪行為が行われると、さらなる被害が生じる可能性があります。', role='assistant', function_call=None, tool_calls=None)\n"
          ]
        }
      ]
    },
    {
      "cell_type": "code",
      "source": [
        "print(completion.choices[0].message.content)"
      ],
      "metadata": {
        "colab": {
          "base_uri": "https://localhost:8080/"
        },
        "id": "-8Baw3yPvSDm",
        "outputId": "cf2ec4ed-41e7-419e-cb43-3a1da66d869d"
      },
      "execution_count": 72,
      "outputs": [
        {
          "output_type": "stream",
          "name": "stdout",
          "text": [
            "予約システムの故障により、多くの人は鉄道や飛行機に乗ることができなくなったり、銀行のオンラインシステムの障害で入金・送金・支払いができなくなったりしました。予約システムやオンラインシステムは、通信システムのトラブルや自然災害、プログラムのバグ、人間の操作ミスなどにより停止することがあります。その影響は大きく、多くの人々が困ることとなります。また、情報システムを悪用する犯罪行為が行われると、さらなる被害が生じる可能性があります。\n"
          ]
        }
      ]
    },
    {
      "cell_type": "code",
      "source": [],
      "metadata": {
        "id": "EVXPXCV_vWC_"
      },
      "execution_count": null,
      "outputs": []
    }
  ]
}